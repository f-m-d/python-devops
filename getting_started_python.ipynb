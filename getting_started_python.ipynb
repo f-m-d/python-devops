{
  "nbformat": 4,
  "nbformat_minor": 0,
  "metadata": {
    "colab": {
      "provenance": [],
      "authorship_tag": "ABX9TyOj/hcHR9WbVduigaUpc0M+",
      "include_colab_link": true
    },
    "kernelspec": {
      "name": "python3",
      "display_name": "Python 3"
    },
    "language_info": {
      "name": "python"
    }
  },
  "cells": [
    {
      "cell_type": "markdown",
      "metadata": {
        "id": "view-in-github",
        "colab_type": "text"
      },
      "source": [
        "<a href=\"https://colab.research.google.com/github/f-m-d/python-devops/blob/main/getting_started_python.ipynb\" target=\"_parent\"><img src=\"https://colab.research.google.com/assets/colab-badge.svg\" alt=\"Open In Colab\"/></a>"
      ]
    },
    {
      "cell_type": "markdown",
      "source": [
        "## Introduction to Python"
      ],
      "metadata": {
        "id": "X59WkacXAaoi"
      }
    },
    {
      "cell_type": "code",
      "source": [
        "print(\"Hello World!\")"
      ],
      "metadata": {
        "colab": {
          "base_uri": "https://localhost:8080/"
        },
        "id": "GH2LznpPAfxL",
        "outputId": "7d5282a1-38ec-4754-de66-1cdc4f373c3b"
      },
      "execution_count": 2,
      "outputs": [
        {
          "output_type": "stream",
          "name": "stdout",
          "text": [
            "Hello World!\n"
          ]
        }
      ]
    },
    {
      "cell_type": "markdown",
      "source": [
        "### Statements in Python"
      ],
      "metadata": {
        "id": "imSktsFQAlNu"
      }
    },
    {
      "cell_type": "code",
      "source": [
        "# Declare a variable\n",
        "name = \"Bob\"\n",
        "\n",
        "# F String formatting\n",
        "print(f\"Hello {name}!\")"
      ],
      "metadata": {
        "colab": {
          "base_uri": "https://localhost:8080/"
        },
        "id": "8lgBl4Y-AnpI",
        "outputId": "5478c67e-e52c-4315-a03c-0030a512d709"
      },
      "execution_count": 3,
      "outputs": [
        {
          "output_type": "stream",
          "name": "stdout",
          "text": [
            "hello bob\n"
          ]
        }
      ]
    },
    {
      "cell_type": "markdown",
      "source": [
        "### Data Structures: Lists and Dictionaries"
      ],
      "metadata": {
        "id": "NEwYluFCBcdT"
      }
    },
    {
      "cell_type": "markdown",
      "source": [
        "#### Lists"
      ],
      "metadata": {
        "id": "FBmlZ2BOCdwy"
      }
    },
    {
      "cell_type": "code",
      "source": [
        "# List\n",
        "fruit = [\"apple\", \"pear\", \"strawberry\"]\n",
        "type(fruit)\n",
        "print(fruit)"
      ],
      "metadata": {
        "colab": {
          "base_uri": "https://localhost:8080/"
        },
        "id": "FSmlimJtBjH4",
        "outputId": "efe6b92b-62b6-4f3f-ba31-1918a308a29c"
      },
      "execution_count": 5,
      "outputs": [
        {
          "output_type": "stream",
          "name": "stdout",
          "text": [
            "['apple', 'pear', 'strawberry']\n"
          ]
        }
      ]
    },
    {
      "cell_type": "code",
      "source": [
        "# Print element in position 0 (first)\n",
        "fruit[0]"
      ],
      "metadata": {
        "colab": {
          "base_uri": "https://localhost:8080/",
          "height": 35
        },
        "id": "eb5xJZbAB9mv",
        "outputId": "d978f2f0-b826-42e3-e189-be9a830fdfe1"
      },
      "execution_count": 6,
      "outputs": [
        {
          "output_type": "execute_result",
          "data": {
            "text/plain": [
              "'apple'"
            ],
            "application/vnd.google.colaboratory.intrinsic+json": {
              "type": "string"
            }
          },
          "metadata": {},
          "execution_count": 6
        }
      ]
    },
    {
      "cell_type": "code",
      "source": [
        "# Print all except the last one\n",
        "fruit[:-1]"
      ],
      "metadata": {
        "colab": {
          "base_uri": "https://localhost:8080/"
        },
        "id": "PEgsHJZBCDpK",
        "outputId": "de85a8d1-c74a-472c-b147-342e470163d0"
      },
      "execution_count": 7,
      "outputs": [
        {
          "output_type": "execute_result",
          "data": {
            "text/plain": [
              "['apple', 'pear']"
            ]
          },
          "metadata": {},
          "execution_count": 7
        }
      ]
    },
    {
      "cell_type": "code",
      "source": [
        "# Loop\n",
        "for my_fruit in fruit:\n",
        "  print(f\"This is my favorite fruit: {my_fruit}\")"
      ],
      "metadata": {
        "colab": {
          "base_uri": "https://localhost:8080/"
        },
        "id": "NE6gEqVOCOy6",
        "outputId": "f15e3f06-4283-4376-db7e-d43c455234b4"
      },
      "execution_count": 9,
      "outputs": [
        {
          "output_type": "stream",
          "name": "stdout",
          "text": [
            "This is my favorite fruit: apple\n",
            "This is my favorite fruit: pear\n",
            "This is my favorite fruit: strawberry\n"
          ]
        }
      ]
    },
    {
      "cell_type": "markdown",
      "source": [
        "#### Dictionaries"
      ],
      "metadata": {
        "id": "kS_HPV7_CfxY"
      }
    },
    {
      "cell_type": "code",
      "source": [
        "# Dictionary\n",
        "meal = {\"breakfast\": \"black coffee\", \"lunch\": \"salad\", \"dinner\": \"rice and beans\"}"
      ],
      "metadata": {
        "colab": {
          "base_uri": "https://localhost:8080/"
        },
        "id": "sI7u6dfACiML",
        "outputId": "2d9ee918-0eab-41c3-ed5b-aaaa15843d0d"
      },
      "execution_count": 11,
      "outputs": [
        {
          "output_type": "execute_result",
          "data": {
            "text/plain": [
              "<function dict.items>"
            ]
          },
          "metadata": {},
          "execution_count": 11
        }
      ]
    },
    {
      "cell_type": "code",
      "source": [
        "# Print keys\n",
        "meal.keys()"
      ],
      "metadata": {
        "colab": {
          "base_uri": "https://localhost:8080/"
        },
        "id": "KGlkiUmkDWmA",
        "outputId": "8918d383-4f5b-47c2-e4cf-de6529c4e9b4"
      },
      "execution_count": 14,
      "outputs": [
        {
          "output_type": "execute_result",
          "data": {
            "text/plain": [
              "dict_keys(['breakfast', 'lunch', 'dinner'])"
            ]
          },
          "metadata": {},
          "execution_count": 14
        }
      ]
    },
    {
      "cell_type": "code",
      "source": [
        "# Print values\n",
        "meal.values()"
      ],
      "metadata": {
        "colab": {
          "base_uri": "https://localhost:8080/"
        },
        "id": "vDtl9NHJDcHP",
        "outputId": "d293ac68-a9e2-4dd5-8316-edf126999a37"
      },
      "execution_count": 13,
      "outputs": [
        {
          "output_type": "execute_result",
          "data": {
            "text/plain": [
              "dict_values(['black coffee', 'salad', 'rice and beans'])"
            ]
          },
          "metadata": {},
          "execution_count": 13
        }
      ]
    },
    {
      "cell_type": "code",
      "source": [
        "# Print as pair:\n",
        "# First part, the key\n",
        "# Second part, the value\n",
        "meal.items()"
      ],
      "metadata": {
        "colab": {
          "base_uri": "https://localhost:8080/"
        },
        "id": "GfwBY8z4EQRX",
        "outputId": "d24b24a3-f352-4673-d1ea-2ef553c0b2ff"
      },
      "execution_count": 15,
      "outputs": [
        {
          "output_type": "execute_result",
          "data": {
            "text/plain": [
              "dict_items([('breakfast', 'black coffee'), ('lunch', 'salad'), ('dinner', 'rice and beans')])"
            ]
          },
          "metadata": {},
          "execution_count": 15
        }
      ]
    },
    {
      "cell_type": "code",
      "source": [
        "# Loop trough dictionary\n",
        "# dictionary.items return keys and values,\n",
        "# so you have to indicate 2 variables for the loop\n",
        "for meal_key, meal_item in meal.items():\n",
        "  print(f\"This meal {meal_key} is when I like to consume {meal_item}\")"
      ],
      "metadata": {
        "id": "_oM-paDbDrkK"
      },
      "execution_count": null,
      "outputs": []
    }
  ]
}