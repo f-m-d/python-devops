{
  "cells": [
    {
      "cell_type": "markdown",
      "metadata": {
        "colab_type": "text",
        "id": "view-in-github"
      },
      "source": [
        "<a href=\"https://colab.research.google.com/github/f-m-d/python-devops/blob/main/getting_started_python.ipynb\" target=\"_parent\"><img src=\"https://colab.research.google.com/assets/colab-badge.svg\" alt=\"Open In Colab\"/></a>"
      ]
    },
    {
      "cell_type": "markdown",
      "metadata": {
        "id": "X59WkacXAaoi"
      },
      "source": [
        "## Introduction to Python"
      ]
    },
    {
      "cell_type": "code",
      "execution_count": 2,
      "metadata": {
        "colab": {
          "base_uri": "https://localhost:8080/"
        },
        "id": "GH2LznpPAfxL",
        "outputId": "7d5282a1-38ec-4754-de66-1cdc4f373c3b"
      },
      "outputs": [
        {
          "name": "stdout",
          "output_type": "stream",
          "text": [
            "Hello World!\n"
          ]
        }
      ],
      "source": [
        "print(\"Hello World!\")"
      ]
    },
    {
      "cell_type": "markdown",
      "metadata": {
        "id": "imSktsFQAlNu"
      },
      "source": [
        "### Statements in Python"
      ]
    },
    {
      "cell_type": "code",
      "execution_count": 3,
      "metadata": {
        "colab": {
          "base_uri": "https://localhost:8080/"
        },
        "id": "8lgBl4Y-AnpI",
        "outputId": "5478c67e-e52c-4315-a03c-0030a512d709"
      },
      "outputs": [
        {
          "name": "stdout",
          "output_type": "stream",
          "text": [
            "hello bob\n"
          ]
        }
      ],
      "source": [
        "# Declare a variable\n",
        "name = \"Bob\"\n",
        "\n",
        "# F String formatting\n",
        "print(f\"Hello {name}!\")"
      ]
    },
    {
      "cell_type": "markdown",
      "metadata": {
        "id": "NEwYluFCBcdT"
      },
      "source": [
        "### Data Structures: Lists and Dictionaries"
      ]
    },
    {
      "cell_type": "markdown",
      "metadata": {
        "id": "FBmlZ2BOCdwy"
      },
      "source": [
        "#### Lists"
      ]
    },
    {
      "cell_type": "code",
      "execution_count": 5,
      "metadata": {
        "colab": {
          "base_uri": "https://localhost:8080/"
        },
        "id": "FSmlimJtBjH4",
        "outputId": "efe6b92b-62b6-4f3f-ba31-1918a308a29c"
      },
      "outputs": [
        {
          "name": "stdout",
          "output_type": "stream",
          "text": [
            "['apple', 'pear', 'strawberry']\n"
          ]
        }
      ],
      "source": [
        "# List\n",
        "fruit = [\"apple\", \"pear\", \"strawberry\"]\n",
        "type(fruit)\n",
        "print(fruit)"
      ]
    },
    {
      "cell_type": "code",
      "execution_count": 6,
      "metadata": {
        "colab": {
          "base_uri": "https://localhost:8080/",
          "height": 35
        },
        "id": "eb5xJZbAB9mv",
        "outputId": "d978f2f0-b826-42e3-e189-be9a830fdfe1"
      },
      "outputs": [
        {
          "data": {
            "application/vnd.google.colaboratory.intrinsic+json": {
              "type": "string"
            },
            "text/plain": [
              "'apple'"
            ]
          },
          "execution_count": 6,
          "metadata": {},
          "output_type": "execute_result"
        }
      ],
      "source": [
        "# Print element in position 0 (first)\n",
        "fruit[0]"
      ]
    },
    {
      "cell_type": "code",
      "execution_count": 7,
      "metadata": {
        "colab": {
          "base_uri": "https://localhost:8080/"
        },
        "id": "PEgsHJZBCDpK",
        "outputId": "de85a8d1-c74a-472c-b147-342e470163d0"
      },
      "outputs": [
        {
          "data": {
            "text/plain": [
              "['apple', 'pear']"
            ]
          },
          "execution_count": 7,
          "metadata": {},
          "output_type": "execute_result"
        }
      ],
      "source": [
        "# Print all except the last one\n",
        "fruit[:-1]"
      ]
    },
    {
      "cell_type": "code",
      "execution_count": 9,
      "metadata": {
        "colab": {
          "base_uri": "https://localhost:8080/"
        },
        "id": "NE6gEqVOCOy6",
        "outputId": "f15e3f06-4283-4376-db7e-d43c455234b4"
      },
      "outputs": [
        {
          "name": "stdout",
          "output_type": "stream",
          "text": [
            "This is my favorite fruit: apple\n",
            "This is my favorite fruit: pear\n",
            "This is my favorite fruit: strawberry\n"
          ]
        }
      ],
      "source": [
        "# Loop\n",
        "for my_fruit in fruit:\n",
        "  print(f\"This is my favorite fruit: {my_fruit}\")"
      ]
    },
    {
      "cell_type": "markdown",
      "metadata": {
        "id": "kS_HPV7_CfxY"
      },
      "source": [
        "#### Dictionaries"
      ]
    },
    {
      "cell_type": "code",
      "execution_count": 11,
      "metadata": {
        "colab": {
          "base_uri": "https://localhost:8080/"
        },
        "id": "sI7u6dfACiML",
        "outputId": "2d9ee918-0eab-41c3-ed5b-aaaa15843d0d"
      },
      "outputs": [
        {
          "data": {
            "text/plain": [
              "<function dict.items>"
            ]
          },
          "execution_count": 11,
          "metadata": {},
          "output_type": "execute_result"
        }
      ],
      "source": [
        "# Dictionary\n",
        "meal = {\"breakfast\": \"black coffee\", \"lunch\": \"salad\", \"dinner\": \"rice and beans\"}"
      ]
    },
    {
      "cell_type": "code",
      "execution_count": 14,
      "metadata": {
        "colab": {
          "base_uri": "https://localhost:8080/"
        },
        "id": "KGlkiUmkDWmA",
        "outputId": "8918d383-4f5b-47c2-e4cf-de6529c4e9b4"
      },
      "outputs": [
        {
          "data": {
            "text/plain": [
              "dict_keys(['breakfast', 'lunch', 'dinner'])"
            ]
          },
          "execution_count": 14,
          "metadata": {},
          "output_type": "execute_result"
        }
      ],
      "source": [
        "# Print keys\n",
        "meal.keys()"
      ]
    },
    {
      "cell_type": "code",
      "execution_count": 13,
      "metadata": {
        "colab": {
          "base_uri": "https://localhost:8080/"
        },
        "id": "vDtl9NHJDcHP",
        "outputId": "d293ac68-a9e2-4dd5-8316-edf126999a37"
      },
      "outputs": [
        {
          "data": {
            "text/plain": [
              "dict_values(['black coffee', 'salad', 'rice and beans'])"
            ]
          },
          "execution_count": 13,
          "metadata": {},
          "output_type": "execute_result"
        }
      ],
      "source": [
        "# Print values\n",
        "meal.values()"
      ]
    },
    {
      "cell_type": "code",
      "execution_count": 1,
      "metadata": {
        "colab": {
          "base_uri": "https://localhost:8080/"
        },
        "id": "GfwBY8z4EQRX",
        "outputId": "d24b24a3-f352-4673-d1ea-2ef553c0b2ff"
      },
      "outputs": [
        {
          "ename": "NameError",
          "evalue": "name 'meal' is not defined",
          "output_type": "error",
          "traceback": [
            "\u001b[0;31m---------------------------------------------------------------------------\u001b[0m",
            "\u001b[0;31mNameError\u001b[0m                                 Traceback (most recent call last)",
            "Cell \u001b[0;32mIn[1], line 4\u001b[0m\n\u001b[1;32m      1\u001b[0m \u001b[38;5;66;03m# Print as pair:\u001b[39;00m\n\u001b[1;32m      2\u001b[0m \u001b[38;5;66;03m# First part, the key\u001b[39;00m\n\u001b[1;32m      3\u001b[0m \u001b[38;5;66;03m# Second part, the value\u001b[39;00m\n\u001b[0;32m----> 4\u001b[0m \u001b[43mmeal\u001b[49m\u001b[38;5;241m.\u001b[39mitems()\n",
            "\u001b[0;31mNameError\u001b[0m: name 'meal' is not defined"
          ]
        }
      ],
      "source": [
        "# Print as pair:\n",
        "# First part, the key\n",
        "# Second part, the value\n",
        "meal.items()"
      ]
    },
    {
      "cell_type": "code",
      "execution_count": null,
      "metadata": {
        "id": "_oM-paDbDrkK"
      },
      "outputs": [],
      "source": [
        "# Loop trough dictionary\n",
        "# dictionary.items return keys and values,\n",
        "# so you have to indicate 2 variables for the loop\n",
        "for meal_key, meal_item in meal.items():\n",
        "  print(f\"This meal {meal_key} is when I like to consume {meal_item}\")"
      ]
    }
  ],
  "metadata": {
    "colab": {
      "authorship_tag": "ABX9TyOj/hcHR9WbVduigaUpc0M+",
      "include_colab_link": true,
      "provenance": []
    },
    "kernelspec": {
      "display_name": "Python 3",
      "name": "python3"
    },
    "language_info": {
      "codemirror_mode": {
        "name": "ipython",
        "version": 3
      },
      "file_extension": ".py",
      "mimetype": "text/x-python",
      "name": "python",
      "nbconvert_exporter": "python",
      "pygments_lexer": "ipython3",
      "version": "3.10.13"
    }
  },
  "nbformat": 4,
  "nbformat_minor": 0
}
